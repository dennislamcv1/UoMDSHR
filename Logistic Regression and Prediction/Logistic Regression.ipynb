{
 "cells": [
  {
   "cell_type": "markdown",
   "metadata": {},
   "source": [
    "# Module 1 Quiz"
   ]
  },
  {
   "cell_type": "markdown",
   "metadata": {},
   "source": [
    "**==========================================================================================**"
   ]
  },
  {
   "cell_type": "markdown",
   "metadata": {},
   "source": [
    "Is there an association between hypertension and body mass index (BMI)? In the following assessment, you will use the BPUrban1000 data set to conduct a series of hypothesis tests, and interpret the results from those tests.\n",
    "\n",
    "The BMI group variable from BPUrban1000 uses the cutoff value of 27.49 kg/m2 in agreement with the JFCM paper that we read earlier. BMI greater than the cutoff was found to be significantly associated with hypertension.\n",
    "\n",
    "Produce a 2x2 table showing the distribution of hypertension by bmi_group, where  bmi_group is a categorical variable taking on values 'BMI>27.49' and 'BMI<=27.49'. Note that the BPUrban1000 data set contains the variables hypertension and bmi_group."
   ]
  },
  {
   "cell_type": "markdown",
   "metadata": {},
   "source": [
    "## Import Libraries"
   ]
  },
  {
   "cell_type": "code",
   "execution_count": 18,
   "metadata": {},
   "outputs": [
    {
     "data": {
      "application/javascript": [
       "IPython.notebook.set_autosave_interval(60000)"
      ]
     },
     "metadata": {},
     "output_type": "display_data"
    },
    {
     "name": "stdout",
     "output_type": "stream",
     "text": [
      "Autosaving every 60 seconds\n"
     ]
    }
   ],
   "source": [
    "import numpy as np\n",
    "import pandas as pd\n",
    "from pandas.plotting import scatter_matrix\n",
    "import matplotlib.pyplot as plt\n",
    "import seaborn as sns\n",
    "import random\n",
    "\n",
    "import statsmodels.api as sm\n",
    "import statsmodels.formula.api as smf\n",
    "from statsmodels.formula.api import ols\n",
    "\n",
    "from sklearn.metrics import roc_curve, auc\n",
    "from sklearn.model_selection import train_test_split\n",
    "\n",
    "import datetime\n",
    "from datetime import datetime, timedelta, date\n",
    "\n",
    "%matplotlib inline\n",
    "#sets the default autosave frequency in seconds\n",
    "%autosave 60 \n",
    "sns.set_style('dark')\n",
    "sns.set(font_scale=1.2)\n",
    "#sns.set(rc={'figure.figsize':(14,10)})\n",
    "\n",
    "plt.rc('axes', titlesize=9)\n",
    "plt.rc('axes', labelsize=14)\n",
    "plt.rc('xtick', labelsize=12)\n",
    "plt.rc('ytick', labelsize=12)\n",
    "\n",
    "import warnings\n",
    "warnings.filterwarnings('ignore')\n",
    "\n",
    "pd.set_option('display.max_columns',None)\n",
    "#pd.set_option('display.max_rows',None)\n",
    "pd.set_option('display.width', 1000)\n",
    "pd.set_option('display.float_format','{:.2f}'.format)\n",
    "\n",
    "random.seed(0)\n",
    "np.random.seed(0)\n",
    "np.set_printoptions(suppress=True)"
   ]
  },
  {
   "cell_type": "markdown",
   "metadata": {},
   "source": [
    "## Import Data"
   ]
  },
  {
   "cell_type": "code",
   "execution_count": 2,
   "metadata": {},
   "outputs": [],
   "source": [
    "df = pd.read_csv(\"BPUrban1000.csv\")"
   ]
  },
  {
   "cell_type": "code",
   "execution_count": null,
   "metadata": {},
   "outputs": [],
   "source": [
    "df"
   ]
  },
  {
   "cell_type": "code",
   "execution_count": null,
   "metadata": {},
   "outputs": [],
   "source": [
    "df.info()"
   ]
  },
  {
   "cell_type": "code",
   "execution_count": null,
   "metadata": {},
   "outputs": [],
   "source": [
    "df.dtypes.value_counts()"
   ]
  },
  {
   "cell_type": "code",
   "execution_count": null,
   "metadata": {},
   "outputs": [],
   "source": [
    "df.isnull().sum()"
   ]
  },
  {
   "cell_type": "code",
   "execution_count": null,
   "metadata": {},
   "outputs": [],
   "source": [
    "# Create the 2x2 table for hypertension by bmi_group\n",
    "contingency_table = pd.crosstab(df['hypertension'], df['bmi_group'], margins=True)\n",
    "\n",
    "contingency_table"
   ]
  },
  {
   "cell_type": "code",
   "execution_count": null,
   "metadata": {},
   "outputs": [],
   "source": [
    "#How many hypertensive adults have BMI>27.49?"
   ]
  },
  {
   "cell_type": "code",
   "execution_count": null,
   "metadata": {},
   "outputs": [],
   "source": [
    "#How many non-hypertensive adults have BMI>27.49?"
   ]
  },
  {
   "cell_type": "code",
   "execution_count": null,
   "metadata": {},
   "outputs": [],
   "source": [
    "#How many hypertensive adults have BMI<=27.49?"
   ]
  },
  {
   "cell_type": "code",
   "execution_count": null,
   "metadata": {},
   "outputs": [],
   "source": [
    "#How many non-hypertensive adults have BMI<=27.49?"
   ]
  },
  {
   "cell_type": "code",
   "execution_count": null,
   "metadata": {},
   "outputs": [],
   "source": [
    "#What proportion of all adults (i.e. regardless of BMI) have hypertension?"
   ]
  },
  {
   "cell_type": "code",
   "execution_count": null,
   "metadata": {},
   "outputs": [],
   "source": [
    "#What proportion of adults do not have hypertension?"
   ]
  },
  {
   "cell_type": "code",
   "execution_count": null,
   "metadata": {},
   "outputs": [],
   "source": [
    "#What the proportion of adults with BMI>27.49 have hypertension?"
   ]
  },
  {
   "cell_type": "code",
   "execution_count": null,
   "metadata": {},
   "outputs": [],
   "source": [
    "#What is proportion of adults with BMI<=27.49 have hypertension?"
   ]
  },
  {
   "cell_type": "code",
   "execution_count": null,
   "metadata": {},
   "outputs": [],
   "source": [
    "#Now, conduct a formal hypothesis test for the difference in the true population proportions (two proportions z-test).\n",
    "\n",
    "from statsmodels.stats.proportion import proportions_ztest\n",
    "\n",
    "# Define the counts and sample sizes for the two groups\n",
    "count = np.array([contingency_table.loc[1, 'BMI>27.49'], contingency_table.loc[1, 'BMI<=27.49']])\n",
    "nobs = np.array([contingency_table.loc['All', 'BMI>27.49'], contingency_table.loc['All', 'BMI<=27.49']])\n",
    "\n",
    "# Conduct the two-proportion z-test\n",
    "stat, p_value = proportions_ztest(count, nobs)\n",
    "stat, p_value\n"
   ]
  },
  {
   "cell_type": "code",
   "execution_count": null,
   "metadata": {},
   "outputs": [],
   "source": [
    "# Now, conduct Fisher’s exact test for count data on the 2x2 table of hypertension and BMI group.\n",
    "\n",
    "from scipy.stats import fisher_exact\n",
    "\n",
    "# Define the contingency table\n",
    "contingency_table = [\n",
    "    [363, 425],  # No hypertension\n",
    "    [58, 154]    # Hypertension\n",
    "]\n",
    "\n",
    "# Conduct Fisher's exact test\n",
    "odds_ratio, p_value = fisher_exact(contingency_table)\n",
    "\n",
    "odds_ratio, p_value"
   ]
  },
  {
   "cell_type": "markdown",
   "metadata": {},
   "source": [
    "# Module 2 Quiz"
   ]
  },
  {
   "cell_type": "markdown",
   "metadata": {},
   "source": [
    "Are smoking and use of chewing tobacco associated with an elevated odds of hypertension among urban India adults? In this assessment, you will walk through the steps needed to answer this question using the BPUrban1000 data set.\n",
    "\n",
    "In two separate simple logistic regression models, produce summary tables for the association between hypertension and smoking and hypertension and using chewing tobacco. Note that the smoking variable is called smoking and the variable corresponding to use of chewing tobacco is called chewing."
   ]
  },
  {
   "cell_type": "code",
   "execution_count": 3,
   "metadata": {},
   "outputs": [
    {
     "data": {
      "text/html": [
       "<div>\n",
       "<style scoped>\n",
       "    .dataframe tbody tr th:only-of-type {\n",
       "        vertical-align: middle;\n",
       "    }\n",
       "\n",
       "    .dataframe tbody tr th {\n",
       "        vertical-align: top;\n",
       "    }\n",
       "\n",
       "    .dataframe thead th {\n",
       "        text-align: right;\n",
       "    }\n",
       "</style>\n",
       "<table border=\"1\" class=\"dataframe\">\n",
       "  <thead>\n",
       "    <tr style=\"text-align: right;\">\n",
       "      <th></th>\n",
       "      <th>hypertension</th>\n",
       "      <th>systolic</th>\n",
       "      <th>diastolic</th>\n",
       "      <th>bmi</th>\n",
       "      <th>bmi_group</th>\n",
       "      <th>cholesterol</th>\n",
       "      <th>age</th>\n",
       "      <th>age_group</th>\n",
       "      <th>parent_history_HTN</th>\n",
       "      <th>salt</th>\n",
       "      <th>salt_group</th>\n",
       "      <th>smoking</th>\n",
       "      <th>chewing</th>\n",
       "      <th>activity</th>\n",
       "      <th>weight</th>\n",
       "      <th>waist_circumference</th>\n",
       "      <th>hip_circumference</th>\n",
       "      <th>waist_hip_ratio</th>\n",
       "      <th>fasting_glucose</th>\n",
       "      <th>caste</th>\n",
       "      <th>marital_status</th>\n",
       "      <th>religion</th>\n",
       "      <th>education</th>\n",
       "      <th>gender</th>\n",
       "    </tr>\n",
       "  </thead>\n",
       "  <tbody>\n",
       "    <tr>\n",
       "      <th>0</th>\n",
       "      <td>0</td>\n",
       "      <td>136</td>\n",
       "      <td>59</td>\n",
       "      <td>35.00</td>\n",
       "      <td>BMI&gt;27.49</td>\n",
       "      <td>183</td>\n",
       "      <td>63</td>\n",
       "      <td>&gt;=60</td>\n",
       "      <td>both</td>\n",
       "      <td>1.50</td>\n",
       "      <td>Salt&lt;=5</td>\n",
       "      <td>False</td>\n",
       "      <td>True</td>\n",
       "      <td>sedentary</td>\n",
       "      <td>82.10</td>\n",
       "      <td>61.90</td>\n",
       "      <td>82.30</td>\n",
       "      <td>0.75</td>\n",
       "      <td>75</td>\n",
       "      <td>Schedule tribe</td>\n",
       "      <td>Married</td>\n",
       "      <td>Muslim</td>\n",
       "      <td>&gt;=Graduate</td>\n",
       "      <td>Female</td>\n",
       "    </tr>\n",
       "    <tr>\n",
       "      <th>1</th>\n",
       "      <td>0</td>\n",
       "      <td>134</td>\n",
       "      <td>90</td>\n",
       "      <td>18.40</td>\n",
       "      <td>BMI&lt;=27.49</td>\n",
       "      <td>127</td>\n",
       "      <td>30</td>\n",
       "      <td>30-44</td>\n",
       "      <td>either</td>\n",
       "      <td>9.10</td>\n",
       "      <td>5&lt;Salt&lt;=10</td>\n",
       "      <td>False</td>\n",
       "      <td>False</td>\n",
       "      <td>moderate</td>\n",
       "      <td>49.30</td>\n",
       "      <td>99.10</td>\n",
       "      <td>93.70</td>\n",
       "      <td>1.06</td>\n",
       "      <td>130</td>\n",
       "      <td>Other caste</td>\n",
       "      <td>Married</td>\n",
       "      <td>Sikh</td>\n",
       "      <td>&gt;=Graduate</td>\n",
       "      <td>Male</td>\n",
       "    </tr>\n",
       "    <tr>\n",
       "      <th>2</th>\n",
       "      <td>1</td>\n",
       "      <td>149</td>\n",
       "      <td>76</td>\n",
       "      <td>28.10</td>\n",
       "      <td>BMI&gt;27.49</td>\n",
       "      <td>132</td>\n",
       "      <td>24</td>\n",
       "      <td>20-29</td>\n",
       "      <td>both</td>\n",
       "      <td>15.20</td>\n",
       "      <td>10&lt;Salt&lt;=20</td>\n",
       "      <td>False</td>\n",
       "      <td>True</td>\n",
       "      <td>severe</td>\n",
       "      <td>78.10</td>\n",
       "      <td>101.10</td>\n",
       "      <td>88.90</td>\n",
       "      <td>1.14</td>\n",
       "      <td>129</td>\n",
       "      <td>General</td>\n",
       "      <td>Married</td>\n",
       "      <td>Hindu</td>\n",
       "      <td>&lt;=Primary</td>\n",
       "      <td>Female</td>\n",
       "    </tr>\n",
       "    <tr>\n",
       "      <th>3</th>\n",
       "      <td>0</td>\n",
       "      <td>117</td>\n",
       "      <td>65</td>\n",
       "      <td>29.10</td>\n",
       "      <td>BMI&gt;27.49</td>\n",
       "      <td>126</td>\n",
       "      <td>52</td>\n",
       "      <td>45-59</td>\n",
       "      <td>none</td>\n",
       "      <td>6.00</td>\n",
       "      <td>5&lt;Salt&lt;=10</td>\n",
       "      <td>False</td>\n",
       "      <td>False</td>\n",
       "      <td>moderate</td>\n",
       "      <td>66.60</td>\n",
       "      <td>88.70</td>\n",
       "      <td>100.50</td>\n",
       "      <td>0.88</td>\n",
       "      <td>126</td>\n",
       "      <td>General</td>\n",
       "      <td>Unmarried</td>\n",
       "      <td>Hindu</td>\n",
       "      <td>Middle</td>\n",
       "      <td>Female</td>\n",
       "    </tr>\n",
       "    <tr>\n",
       "      <th>4</th>\n",
       "      <td>0</td>\n",
       "      <td>110</td>\n",
       "      <td>74</td>\n",
       "      <td>33.10</td>\n",
       "      <td>BMI&gt;27.49</td>\n",
       "      <td>182</td>\n",
       "      <td>61</td>\n",
       "      <td>&gt;=60</td>\n",
       "      <td>none</td>\n",
       "      <td>13.80</td>\n",
       "      <td>10&lt;Salt&lt;=20</td>\n",
       "      <td>False</td>\n",
       "      <td>False</td>\n",
       "      <td>moderate</td>\n",
       "      <td>73.40</td>\n",
       "      <td>60.40</td>\n",
       "      <td>81.80</td>\n",
       "      <td>0.74</td>\n",
       "      <td>76</td>\n",
       "      <td>Schedule caste</td>\n",
       "      <td>Unmarried</td>\n",
       "      <td>Hindu</td>\n",
       "      <td>&lt;=Primary</td>\n",
       "      <td>Female</td>\n",
       "    </tr>\n",
       "  </tbody>\n",
       "</table>\n",
       "</div>"
      ],
      "text/plain": [
       "   hypertension  systolic  diastolic   bmi   bmi_group  cholesterol  age age_group parent_history_HTN  salt   salt_group  smoking  chewing   activity  weight  waist_circumference  hip_circumference  waist_hip_ratio  fasting_glucose           caste marital_status religion   education  gender\n",
       "0             0       136         59 35.00   BMI>27.49          183   63      >=60               both  1.50      Salt<=5    False     True  sedentary   82.10                61.90              82.30             0.75               75  Schedule tribe        Married   Muslim  >=Graduate  Female\n",
       "1             0       134         90 18.40  BMI<=27.49          127   30     30-44             either  9.10   5<Salt<=10    False    False   moderate   49.30                99.10              93.70             1.06              130     Other caste        Married     Sikh  >=Graduate    Male\n",
       "2             1       149         76 28.10   BMI>27.49          132   24     20-29               both 15.20  10<Salt<=20    False     True     severe   78.10               101.10              88.90             1.14              129         General        Married    Hindu   <=Primary  Female\n",
       "3             0       117         65 29.10   BMI>27.49          126   52     45-59               none  6.00   5<Salt<=10    False    False   moderate   66.60                88.70             100.50             0.88              126         General      Unmarried    Hindu      Middle  Female\n",
       "4             0       110         74 33.10   BMI>27.49          182   61      >=60               none 13.80  10<Salt<=20    False    False   moderate   73.40                60.40              81.80             0.74               76  Schedule caste      Unmarried    Hindu   <=Primary  Female"
      ]
     },
     "execution_count": 3,
     "metadata": {},
     "output_type": "execute_result"
    }
   ],
   "source": [
    "df.head()"
   ]
  },
  {
   "cell_type": "code",
   "execution_count": 4,
   "metadata": {},
   "outputs": [],
   "source": [
    "df['smoking'] = df['smoking'].astype(int)\n",
    "df['chewing'] = df['chewing'].astype(int)"
   ]
  },
  {
   "cell_type": "code",
   "execution_count": 5,
   "metadata": {},
   "outputs": [
    {
     "data": {
      "text/html": [
       "<div>\n",
       "<style scoped>\n",
       "    .dataframe tbody tr th:only-of-type {\n",
       "        vertical-align: middle;\n",
       "    }\n",
       "\n",
       "    .dataframe tbody tr th {\n",
       "        vertical-align: top;\n",
       "    }\n",
       "\n",
       "    .dataframe thead th {\n",
       "        text-align: right;\n",
       "    }\n",
       "</style>\n",
       "<table border=\"1\" class=\"dataframe\">\n",
       "  <thead>\n",
       "    <tr style=\"text-align: right;\">\n",
       "      <th></th>\n",
       "      <th>hypertension</th>\n",
       "      <th>systolic</th>\n",
       "      <th>diastolic</th>\n",
       "      <th>bmi</th>\n",
       "      <th>bmi_group</th>\n",
       "      <th>cholesterol</th>\n",
       "      <th>age</th>\n",
       "      <th>age_group</th>\n",
       "      <th>parent_history_HTN</th>\n",
       "      <th>salt</th>\n",
       "      <th>salt_group</th>\n",
       "      <th>smoking</th>\n",
       "      <th>chewing</th>\n",
       "      <th>activity</th>\n",
       "      <th>weight</th>\n",
       "      <th>waist_circumference</th>\n",
       "      <th>hip_circumference</th>\n",
       "      <th>waist_hip_ratio</th>\n",
       "      <th>fasting_glucose</th>\n",
       "      <th>caste</th>\n",
       "      <th>marital_status</th>\n",
       "      <th>religion</th>\n",
       "      <th>education</th>\n",
       "      <th>gender</th>\n",
       "    </tr>\n",
       "  </thead>\n",
       "  <tbody>\n",
       "    <tr>\n",
       "      <th>0</th>\n",
       "      <td>0</td>\n",
       "      <td>136</td>\n",
       "      <td>59</td>\n",
       "      <td>35.00</td>\n",
       "      <td>BMI&gt;27.49</td>\n",
       "      <td>183</td>\n",
       "      <td>63</td>\n",
       "      <td>&gt;=60</td>\n",
       "      <td>both</td>\n",
       "      <td>1.50</td>\n",
       "      <td>Salt&lt;=5</td>\n",
       "      <td>0</td>\n",
       "      <td>1</td>\n",
       "      <td>sedentary</td>\n",
       "      <td>82.10</td>\n",
       "      <td>61.90</td>\n",
       "      <td>82.30</td>\n",
       "      <td>0.75</td>\n",
       "      <td>75</td>\n",
       "      <td>Schedule tribe</td>\n",
       "      <td>Married</td>\n",
       "      <td>Muslim</td>\n",
       "      <td>&gt;=Graduate</td>\n",
       "      <td>Female</td>\n",
       "    </tr>\n",
       "    <tr>\n",
       "      <th>1</th>\n",
       "      <td>0</td>\n",
       "      <td>134</td>\n",
       "      <td>90</td>\n",
       "      <td>18.40</td>\n",
       "      <td>BMI&lt;=27.49</td>\n",
       "      <td>127</td>\n",
       "      <td>30</td>\n",
       "      <td>30-44</td>\n",
       "      <td>either</td>\n",
       "      <td>9.10</td>\n",
       "      <td>5&lt;Salt&lt;=10</td>\n",
       "      <td>0</td>\n",
       "      <td>0</td>\n",
       "      <td>moderate</td>\n",
       "      <td>49.30</td>\n",
       "      <td>99.10</td>\n",
       "      <td>93.70</td>\n",
       "      <td>1.06</td>\n",
       "      <td>130</td>\n",
       "      <td>Other caste</td>\n",
       "      <td>Married</td>\n",
       "      <td>Sikh</td>\n",
       "      <td>&gt;=Graduate</td>\n",
       "      <td>Male</td>\n",
       "    </tr>\n",
       "    <tr>\n",
       "      <th>2</th>\n",
       "      <td>1</td>\n",
       "      <td>149</td>\n",
       "      <td>76</td>\n",
       "      <td>28.10</td>\n",
       "      <td>BMI&gt;27.49</td>\n",
       "      <td>132</td>\n",
       "      <td>24</td>\n",
       "      <td>20-29</td>\n",
       "      <td>both</td>\n",
       "      <td>15.20</td>\n",
       "      <td>10&lt;Salt&lt;=20</td>\n",
       "      <td>0</td>\n",
       "      <td>1</td>\n",
       "      <td>severe</td>\n",
       "      <td>78.10</td>\n",
       "      <td>101.10</td>\n",
       "      <td>88.90</td>\n",
       "      <td>1.14</td>\n",
       "      <td>129</td>\n",
       "      <td>General</td>\n",
       "      <td>Married</td>\n",
       "      <td>Hindu</td>\n",
       "      <td>&lt;=Primary</td>\n",
       "      <td>Female</td>\n",
       "    </tr>\n",
       "    <tr>\n",
       "      <th>3</th>\n",
       "      <td>0</td>\n",
       "      <td>117</td>\n",
       "      <td>65</td>\n",
       "      <td>29.10</td>\n",
       "      <td>BMI&gt;27.49</td>\n",
       "      <td>126</td>\n",
       "      <td>52</td>\n",
       "      <td>45-59</td>\n",
       "      <td>none</td>\n",
       "      <td>6.00</td>\n",
       "      <td>5&lt;Salt&lt;=10</td>\n",
       "      <td>0</td>\n",
       "      <td>0</td>\n",
       "      <td>moderate</td>\n",
       "      <td>66.60</td>\n",
       "      <td>88.70</td>\n",
       "      <td>100.50</td>\n",
       "      <td>0.88</td>\n",
       "      <td>126</td>\n",
       "      <td>General</td>\n",
       "      <td>Unmarried</td>\n",
       "      <td>Hindu</td>\n",
       "      <td>Middle</td>\n",
       "      <td>Female</td>\n",
       "    </tr>\n",
       "    <tr>\n",
       "      <th>4</th>\n",
       "      <td>0</td>\n",
       "      <td>110</td>\n",
       "      <td>74</td>\n",
       "      <td>33.10</td>\n",
       "      <td>BMI&gt;27.49</td>\n",
       "      <td>182</td>\n",
       "      <td>61</td>\n",
       "      <td>&gt;=60</td>\n",
       "      <td>none</td>\n",
       "      <td>13.80</td>\n",
       "      <td>10&lt;Salt&lt;=20</td>\n",
       "      <td>0</td>\n",
       "      <td>0</td>\n",
       "      <td>moderate</td>\n",
       "      <td>73.40</td>\n",
       "      <td>60.40</td>\n",
       "      <td>81.80</td>\n",
       "      <td>0.74</td>\n",
       "      <td>76</td>\n",
       "      <td>Schedule caste</td>\n",
       "      <td>Unmarried</td>\n",
       "      <td>Hindu</td>\n",
       "      <td>&lt;=Primary</td>\n",
       "      <td>Female</td>\n",
       "    </tr>\n",
       "  </tbody>\n",
       "</table>\n",
       "</div>"
      ],
      "text/plain": [
       "   hypertension  systolic  diastolic   bmi   bmi_group  cholesterol  age age_group parent_history_HTN  salt   salt_group  smoking  chewing   activity  weight  waist_circumference  hip_circumference  waist_hip_ratio  fasting_glucose           caste marital_status religion   education  gender\n",
       "0             0       136         59 35.00   BMI>27.49          183   63      >=60               both  1.50      Salt<=5        0        1  sedentary   82.10                61.90              82.30             0.75               75  Schedule tribe        Married   Muslim  >=Graduate  Female\n",
       "1             0       134         90 18.40  BMI<=27.49          127   30     30-44             either  9.10   5<Salt<=10        0        0   moderate   49.30                99.10              93.70             1.06              130     Other caste        Married     Sikh  >=Graduate    Male\n",
       "2             1       149         76 28.10   BMI>27.49          132   24     20-29               both 15.20  10<Salt<=20        0        1     severe   78.10               101.10              88.90             1.14              129         General        Married    Hindu   <=Primary  Female\n",
       "3             0       117         65 29.10   BMI>27.49          126   52     45-59               none  6.00   5<Salt<=10        0        0   moderate   66.60                88.70             100.50             0.88              126         General      Unmarried    Hindu      Middle  Female\n",
       "4             0       110         74 33.10   BMI>27.49          182   61      >=60               none 13.80  10<Salt<=20        0        0   moderate   73.40                60.40              81.80             0.74               76  Schedule caste      Unmarried    Hindu   <=Primary  Female"
      ]
     },
     "execution_count": 5,
     "metadata": {},
     "output_type": "execute_result"
    }
   ],
   "source": [
    "df.head()"
   ]
  },
  {
   "cell_type": "code",
   "execution_count": null,
   "metadata": {},
   "outputs": [],
   "source": [
    "X = df[\"smoking\"]\n",
    "y = df[\"hypertension\"]"
   ]
  },
  {
   "cell_type": "code",
   "execution_count": null,
   "metadata": {},
   "outputs": [],
   "source": [
    "# Add a constant to the model (for the intercept)\n",
    "X = sm.add_constant(X)"
   ]
  },
  {
   "cell_type": "code",
   "execution_count": null,
   "metadata": {},
   "outputs": [],
   "source": [
    "# Logistic regression for hypertension and smoking\n",
    "logit_smoking = sm.Logit(y, X)\n",
    "result_smoking = logit_smoking.fit()"
   ]
  },
  {
   "cell_type": "code",
   "execution_count": null,
   "metadata": {},
   "outputs": [],
   "source": [
    "result_smoking.summary()"
   ]
  },
  {
   "cell_type": "code",
   "execution_count": null,
   "metadata": {},
   "outputs": [],
   "source": []
  },
  {
   "cell_type": "code",
   "execution_count": null,
   "metadata": {},
   "outputs": [],
   "source": [
    "X = df[\"chewing\"]\n",
    "y = df[\"hypertension\"]"
   ]
  },
  {
   "cell_type": "code",
   "execution_count": null,
   "metadata": {},
   "outputs": [],
   "source": [
    "# Add a constant to the model (for the intercept)\n",
    "X = sm.add_constant(X)"
   ]
  },
  {
   "cell_type": "code",
   "execution_count": null,
   "metadata": {},
   "outputs": [],
   "source": [
    "# Logistic regression for hypertension and smoking\n",
    "logit_chewing = sm.Logit(y, X)\n",
    "result_chewing = logit_chewing.fit()"
   ]
  },
  {
   "cell_type": "code",
   "execution_count": null,
   "metadata": {},
   "outputs": [],
   "source": [
    "result_chewing.summary()"
   ]
  },
  {
   "cell_type": "markdown",
   "metadata": {},
   "source": [
    "Estimate the association between hypertension and smoking and using chewing tobacco in a single model while controlling for age, religion, and gender. Specifically, estimate the-log odds ratio between hypertension and smoking while controlling for these other variables."
   ]
  },
  {
   "cell_type": "code",
   "execution_count": 9,
   "metadata": {},
   "outputs": [],
   "source": [
    "df = pd.get_dummies(df, columns=['religion', 'gender'], drop_first=True)"
   ]
  },
  {
   "cell_type": "code",
   "execution_count": 10,
   "metadata": {},
   "outputs": [
    {
     "data": {
      "text/html": [
       "<div>\n",
       "<style scoped>\n",
       "    .dataframe tbody tr th:only-of-type {\n",
       "        vertical-align: middle;\n",
       "    }\n",
       "\n",
       "    .dataframe tbody tr th {\n",
       "        vertical-align: top;\n",
       "    }\n",
       "\n",
       "    .dataframe thead th {\n",
       "        text-align: right;\n",
       "    }\n",
       "</style>\n",
       "<table border=\"1\" class=\"dataframe\">\n",
       "  <thead>\n",
       "    <tr style=\"text-align: right;\">\n",
       "      <th></th>\n",
       "      <th>hypertension</th>\n",
       "      <th>systolic</th>\n",
       "      <th>diastolic</th>\n",
       "      <th>bmi</th>\n",
       "      <th>bmi_group</th>\n",
       "      <th>cholesterol</th>\n",
       "      <th>age</th>\n",
       "      <th>age_group</th>\n",
       "      <th>parent_history_HTN</th>\n",
       "      <th>salt</th>\n",
       "      <th>salt_group</th>\n",
       "      <th>smoking</th>\n",
       "      <th>chewing</th>\n",
       "      <th>activity</th>\n",
       "      <th>weight</th>\n",
       "      <th>waist_circumference</th>\n",
       "      <th>hip_circumference</th>\n",
       "      <th>waist_hip_ratio</th>\n",
       "      <th>fasting_glucose</th>\n",
       "      <th>caste</th>\n",
       "      <th>marital_status</th>\n",
       "      <th>education</th>\n",
       "      <th>religion_Hindu</th>\n",
       "      <th>religion_Muslim</th>\n",
       "      <th>religion_Other</th>\n",
       "      <th>religion_Sikh</th>\n",
       "      <th>gender_Male</th>\n",
       "    </tr>\n",
       "  </thead>\n",
       "  <tbody>\n",
       "    <tr>\n",
       "      <th>0</th>\n",
       "      <td>0</td>\n",
       "      <td>136</td>\n",
       "      <td>59</td>\n",
       "      <td>35.00</td>\n",
       "      <td>BMI&gt;27.49</td>\n",
       "      <td>183</td>\n",
       "      <td>63</td>\n",
       "      <td>&gt;=60</td>\n",
       "      <td>both</td>\n",
       "      <td>1.50</td>\n",
       "      <td>Salt&lt;=5</td>\n",
       "      <td>0</td>\n",
       "      <td>1</td>\n",
       "      <td>sedentary</td>\n",
       "      <td>82.10</td>\n",
       "      <td>61.90</td>\n",
       "      <td>82.30</td>\n",
       "      <td>0.75</td>\n",
       "      <td>75</td>\n",
       "      <td>Schedule tribe</td>\n",
       "      <td>Married</td>\n",
       "      <td>&gt;=Graduate</td>\n",
       "      <td>0</td>\n",
       "      <td>1</td>\n",
       "      <td>0</td>\n",
       "      <td>0</td>\n",
       "      <td>0</td>\n",
       "    </tr>\n",
       "    <tr>\n",
       "      <th>1</th>\n",
       "      <td>0</td>\n",
       "      <td>134</td>\n",
       "      <td>90</td>\n",
       "      <td>18.40</td>\n",
       "      <td>BMI&lt;=27.49</td>\n",
       "      <td>127</td>\n",
       "      <td>30</td>\n",
       "      <td>30-44</td>\n",
       "      <td>either</td>\n",
       "      <td>9.10</td>\n",
       "      <td>5&lt;Salt&lt;=10</td>\n",
       "      <td>0</td>\n",
       "      <td>0</td>\n",
       "      <td>moderate</td>\n",
       "      <td>49.30</td>\n",
       "      <td>99.10</td>\n",
       "      <td>93.70</td>\n",
       "      <td>1.06</td>\n",
       "      <td>130</td>\n",
       "      <td>Other caste</td>\n",
       "      <td>Married</td>\n",
       "      <td>&gt;=Graduate</td>\n",
       "      <td>0</td>\n",
       "      <td>0</td>\n",
       "      <td>0</td>\n",
       "      <td>1</td>\n",
       "      <td>1</td>\n",
       "    </tr>\n",
       "    <tr>\n",
       "      <th>2</th>\n",
       "      <td>1</td>\n",
       "      <td>149</td>\n",
       "      <td>76</td>\n",
       "      <td>28.10</td>\n",
       "      <td>BMI&gt;27.49</td>\n",
       "      <td>132</td>\n",
       "      <td>24</td>\n",
       "      <td>20-29</td>\n",
       "      <td>both</td>\n",
       "      <td>15.20</td>\n",
       "      <td>10&lt;Salt&lt;=20</td>\n",
       "      <td>0</td>\n",
       "      <td>1</td>\n",
       "      <td>severe</td>\n",
       "      <td>78.10</td>\n",
       "      <td>101.10</td>\n",
       "      <td>88.90</td>\n",
       "      <td>1.14</td>\n",
       "      <td>129</td>\n",
       "      <td>General</td>\n",
       "      <td>Married</td>\n",
       "      <td>&lt;=Primary</td>\n",
       "      <td>1</td>\n",
       "      <td>0</td>\n",
       "      <td>0</td>\n",
       "      <td>0</td>\n",
       "      <td>0</td>\n",
       "    </tr>\n",
       "    <tr>\n",
       "      <th>3</th>\n",
       "      <td>0</td>\n",
       "      <td>117</td>\n",
       "      <td>65</td>\n",
       "      <td>29.10</td>\n",
       "      <td>BMI&gt;27.49</td>\n",
       "      <td>126</td>\n",
       "      <td>52</td>\n",
       "      <td>45-59</td>\n",
       "      <td>none</td>\n",
       "      <td>6.00</td>\n",
       "      <td>5&lt;Salt&lt;=10</td>\n",
       "      <td>0</td>\n",
       "      <td>0</td>\n",
       "      <td>moderate</td>\n",
       "      <td>66.60</td>\n",
       "      <td>88.70</td>\n",
       "      <td>100.50</td>\n",
       "      <td>0.88</td>\n",
       "      <td>126</td>\n",
       "      <td>General</td>\n",
       "      <td>Unmarried</td>\n",
       "      <td>Middle</td>\n",
       "      <td>1</td>\n",
       "      <td>0</td>\n",
       "      <td>0</td>\n",
       "      <td>0</td>\n",
       "      <td>0</td>\n",
       "    </tr>\n",
       "    <tr>\n",
       "      <th>4</th>\n",
       "      <td>0</td>\n",
       "      <td>110</td>\n",
       "      <td>74</td>\n",
       "      <td>33.10</td>\n",
       "      <td>BMI&gt;27.49</td>\n",
       "      <td>182</td>\n",
       "      <td>61</td>\n",
       "      <td>&gt;=60</td>\n",
       "      <td>none</td>\n",
       "      <td>13.80</td>\n",
       "      <td>10&lt;Salt&lt;=20</td>\n",
       "      <td>0</td>\n",
       "      <td>0</td>\n",
       "      <td>moderate</td>\n",
       "      <td>73.40</td>\n",
       "      <td>60.40</td>\n",
       "      <td>81.80</td>\n",
       "      <td>0.74</td>\n",
       "      <td>76</td>\n",
       "      <td>Schedule caste</td>\n",
       "      <td>Unmarried</td>\n",
       "      <td>&lt;=Primary</td>\n",
       "      <td>1</td>\n",
       "      <td>0</td>\n",
       "      <td>0</td>\n",
       "      <td>0</td>\n",
       "      <td>0</td>\n",
       "    </tr>\n",
       "  </tbody>\n",
       "</table>\n",
       "</div>"
      ],
      "text/plain": [
       "   hypertension  systolic  diastolic   bmi   bmi_group  cholesterol  age age_group parent_history_HTN  salt   salt_group  smoking  chewing   activity  weight  waist_circumference  hip_circumference  waist_hip_ratio  fasting_glucose           caste marital_status   education  religion_Hindu  religion_Muslim  religion_Other  religion_Sikh  gender_Male\n",
       "0             0       136         59 35.00   BMI>27.49          183   63      >=60               both  1.50      Salt<=5        0        1  sedentary   82.10                61.90              82.30             0.75               75  Schedule tribe        Married  >=Graduate               0                1               0              0            0\n",
       "1             0       134         90 18.40  BMI<=27.49          127   30     30-44             either  9.10   5<Salt<=10        0        0   moderate   49.30                99.10              93.70             1.06              130     Other caste        Married  >=Graduate               0                0               0              1            1\n",
       "2             1       149         76 28.10   BMI>27.49          132   24     20-29               both 15.20  10<Salt<=20        0        1     severe   78.10               101.10              88.90             1.14              129         General        Married   <=Primary               1                0               0              0            0\n",
       "3             0       117         65 29.10   BMI>27.49          126   52     45-59               none  6.00   5<Salt<=10        0        0   moderate   66.60                88.70             100.50             0.88              126         General      Unmarried      Middle               1                0               0              0            0\n",
       "4             0       110         74 33.10   BMI>27.49          182   61      >=60               none 13.80  10<Salt<=20        0        0   moderate   73.40                60.40              81.80             0.74               76  Schedule caste      Unmarried   <=Primary               1                0               0              0            0"
      ]
     },
     "execution_count": 10,
     "metadata": {},
     "output_type": "execute_result"
    }
   ],
   "source": [
    "df.head()"
   ]
  },
  {
   "cell_type": "code",
   "execution_count": 11,
   "metadata": {},
   "outputs": [
    {
     "data": {
      "text/plain": [
       "Index(['hypertension', 'systolic', 'diastolic', 'bmi', 'bmi_group', 'cholesterol', 'age', 'age_group', 'parent_history_HTN', 'salt', 'salt_group', 'smoking', 'chewing', 'activity', 'weight', 'waist_circumference', 'hip_circumference', 'waist_hip_ratio', 'fasting_glucose', 'caste', 'marital_status', 'education', 'religion_Hindu', 'religion_Muslim', 'religion_Other', 'religion_Sikh', 'gender_Male'], dtype='object')"
      ]
     },
     "execution_count": 11,
     "metadata": {},
     "output_type": "execute_result"
    }
   ],
   "source": [
    "df.columns"
   ]
  },
  {
   "cell_type": "code",
   "execution_count": 13,
   "metadata": {},
   "outputs": [],
   "source": [
    "X = df[[\"smoking\",\"chewing\",\"age\",'religion_Hindu', 'religion_Muslim', 'religion_Other', 'religion_Sikh', 'gender_Male']]\n",
    "y = df[\"hypertension\"]"
   ]
  },
  {
   "cell_type": "code",
   "execution_count": 14,
   "metadata": {},
   "outputs": [],
   "source": [
    "# Add a constant to the model (for the intercept)\n",
    "X = sm.add_constant(X)"
   ]
  },
  {
   "cell_type": "code",
   "execution_count": 15,
   "metadata": {},
   "outputs": [
    {
     "name": "stdout",
     "output_type": "stream",
     "text": [
      "Optimization terminated successfully.\n",
      "         Current function value: 0.416138\n",
      "         Iterations 7\n"
     ]
    }
   ],
   "source": [
    "# Logistic regression for hypertension and rest\n",
    "logit_rest = sm.Logit(y, X)\n",
    "result_rest = logit_rest.fit()"
   ]
  },
  {
   "cell_type": "code",
   "execution_count": 16,
   "metadata": {},
   "outputs": [
    {
     "data": {
      "text/html": [
       "<table class=\"simpletable\">\n",
       "<caption>Logit Regression Results</caption>\n",
       "<tr>\n",
       "  <th>Dep. Variable:</th>     <td>hypertension</td>   <th>  No. Observations:  </th>  <td>  1000</td>  \n",
       "</tr>\n",
       "<tr>\n",
       "  <th>Model:</th>                 <td>Logit</td>      <th>  Df Residuals:      </th>  <td>   991</td>  \n",
       "</tr>\n",
       "<tr>\n",
       "  <th>Method:</th>                 <td>MLE</td>       <th>  Df Model:          </th>  <td>     8</td>  \n",
       "</tr>\n",
       "<tr>\n",
       "  <th>Date:</th>            <td>Sun, 16 Jun 2024</td> <th>  Pseudo R-squ.:     </th>  <td>0.1945</td>  \n",
       "</tr>\n",
       "<tr>\n",
       "  <th>Time:</th>                <td>17:30:10</td>     <th>  Log-Likelihood:    </th> <td> -416.14</td> \n",
       "</tr>\n",
       "<tr>\n",
       "  <th>converged:</th>             <td>True</td>       <th>  LL-Null:           </th> <td> -516.59</td> \n",
       "</tr>\n",
       "<tr>\n",
       "  <th>Covariance Type:</th>     <td>nonrobust</td>    <th>  LLR p-value:       </th> <td>4.102e-39</td>\n",
       "</tr>\n",
       "</table>\n",
       "<table class=\"simpletable\">\n",
       "<tr>\n",
       "         <td></td>            <th>coef</th>     <th>std err</th>      <th>z</th>      <th>P>|z|</th>  <th>[0.025</th>    <th>0.975]</th>  \n",
       "</tr>\n",
       "<tr>\n",
       "  <th>const</th>           <td>   -6.3938</td> <td>    0.828</td> <td>   -7.718</td> <td> 0.000</td> <td>   -8.018</td> <td>   -4.770</td>\n",
       "</tr>\n",
       "<tr>\n",
       "  <th>smoking</th>         <td>    0.8009</td> <td>    0.287</td> <td>    2.795</td> <td> 0.005</td> <td>    0.239</td> <td>    1.363</td>\n",
       "</tr>\n",
       "<tr>\n",
       "  <th>chewing</th>         <td>    0.6041</td> <td>    0.173</td> <td>    3.491</td> <td> 0.000</td> <td>    0.265</td> <td>    0.943</td>\n",
       "</tr>\n",
       "<tr>\n",
       "  <th>age</th>             <td>    0.0924</td> <td>    0.008</td> <td>   10.899</td> <td> 0.000</td> <td>    0.076</td> <td>    0.109</td>\n",
       "</tr>\n",
       "<tr>\n",
       "  <th>religion_Hindu</th>  <td>   -0.5463</td> <td>    0.650</td> <td>   -0.841</td> <td> 0.401</td> <td>   -1.820</td> <td>    0.727</td>\n",
       "</tr>\n",
       "<tr>\n",
       "  <th>religion_Muslim</th> <td>   -0.8441</td> <td>    0.686</td> <td>   -1.230</td> <td> 0.219</td> <td>   -2.189</td> <td>    0.501</td>\n",
       "</tr>\n",
       "<tr>\n",
       "  <th>religion_Other</th>  <td>   -1.0914</td> <td>    0.897</td> <td>   -1.217</td> <td> 0.224</td> <td>   -2.850</td> <td>    0.667</td>\n",
       "</tr>\n",
       "<tr>\n",
       "  <th>religion_Sikh</th>   <td>   -0.5174</td> <td>    0.735</td> <td>   -0.704</td> <td> 0.481</td> <td>   -1.957</td> <td>    0.923</td>\n",
       "</tr>\n",
       "<tr>\n",
       "  <th>gender_Male</th>     <td>    0.1297</td> <td>    0.174</td> <td>    0.745</td> <td> 0.456</td> <td>   -0.211</td> <td>    0.471</td>\n",
       "</tr>\n",
       "</table>"
      ],
      "text/latex": [
       "\\begin{center}\n",
       "\\begin{tabular}{lclc}\n",
       "\\toprule\n",
       "\\textbf{Dep. Variable:}   &   hypertension   & \\textbf{  No. Observations:  } &     1000    \\\\\n",
       "\\textbf{Model:}           &      Logit       & \\textbf{  Df Residuals:      } &      991    \\\\\n",
       "\\textbf{Method:}          &       MLE        & \\textbf{  Df Model:          } &        8    \\\\\n",
       "\\textbf{Date:}            & Sun, 16 Jun 2024 & \\textbf{  Pseudo R-squ.:     } &   0.1945    \\\\\n",
       "\\textbf{Time:}            &     17:30:10     & \\textbf{  Log-Likelihood:    } &   -416.14   \\\\\n",
       "\\textbf{converged:}       &       True       & \\textbf{  LL-Null:           } &   -516.59   \\\\\n",
       "\\textbf{Covariance Type:} &    nonrobust     & \\textbf{  LLR p-value:       } & 4.102e-39   \\\\\n",
       "\\bottomrule\n",
       "\\end{tabular}\n",
       "\\begin{tabular}{lcccccc}\n",
       "                          & \\textbf{coef} & \\textbf{std err} & \\textbf{z} & \\textbf{P$> |$z$|$} & \\textbf{[0.025} & \\textbf{0.975]}  \\\\\n",
       "\\midrule\n",
       "\\textbf{const}            &      -6.3938  &        0.828     &    -7.718  &         0.000        &       -8.018    &       -4.770     \\\\\n",
       "\\textbf{smoking}          &       0.8009  &        0.287     &     2.795  &         0.005        &        0.239    &        1.363     \\\\\n",
       "\\textbf{chewing}          &       0.6041  &        0.173     &     3.491  &         0.000        &        0.265    &        0.943     \\\\\n",
       "\\textbf{age}              &       0.0924  &        0.008     &    10.899  &         0.000        &        0.076    &        0.109     \\\\\n",
       "\\textbf{religion\\_Hindu}  &      -0.5463  &        0.650     &    -0.841  &         0.401        &       -1.820    &        0.727     \\\\\n",
       "\\textbf{religion\\_Muslim} &      -0.8441  &        0.686     &    -1.230  &         0.219        &       -2.189    &        0.501     \\\\\n",
       "\\textbf{religion\\_Other}  &      -1.0914  &        0.897     &    -1.217  &         0.224        &       -2.850    &        0.667     \\\\\n",
       "\\textbf{religion\\_Sikh}   &      -0.5174  &        0.735     &    -0.704  &         0.481        &       -1.957    &        0.923     \\\\\n",
       "\\textbf{gender\\_Male}     &       0.1297  &        0.174     &     0.745  &         0.456        &       -0.211    &        0.471     \\\\\n",
       "\\bottomrule\n",
       "\\end{tabular}\n",
       "%\\caption{Logit Regression Results}\n",
       "\\end{center}"
      ],
      "text/plain": [
       "<class 'statsmodels.iolib.summary.Summary'>\n",
       "\"\"\"\n",
       "                           Logit Regression Results                           \n",
       "==============================================================================\n",
       "Dep. Variable:           hypertension   No. Observations:                 1000\n",
       "Model:                          Logit   Df Residuals:                      991\n",
       "Method:                           MLE   Df Model:                            8\n",
       "Date:                Sun, 16 Jun 2024   Pseudo R-squ.:                  0.1945\n",
       "Time:                        17:30:10   Log-Likelihood:                -416.14\n",
       "converged:                       True   LL-Null:                       -516.59\n",
       "Covariance Type:            nonrobust   LLR p-value:                 4.102e-39\n",
       "===================================================================================\n",
       "                      coef    std err          z      P>|z|      [0.025      0.975]\n",
       "-----------------------------------------------------------------------------------\n",
       "const              -6.3938      0.828     -7.718      0.000      -8.018      -4.770\n",
       "smoking             0.8009      0.287      2.795      0.005       0.239       1.363\n",
       "chewing             0.6041      0.173      3.491      0.000       0.265       0.943\n",
       "age                 0.0924      0.008     10.899      0.000       0.076       0.109\n",
       "religion_Hindu     -0.5463      0.650     -0.841      0.401      -1.820       0.727\n",
       "religion_Muslim    -0.8441      0.686     -1.230      0.219      -2.189       0.501\n",
       "religion_Other     -1.0914      0.897     -1.217      0.224      -2.850       0.667\n",
       "religion_Sikh      -0.5174      0.735     -0.704      0.481      -1.957       0.923\n",
       "gender_Male         0.1297      0.174      0.745      0.456      -0.211       0.471\n",
       "===================================================================================\n",
       "\"\"\""
      ]
     },
     "execution_count": 16,
     "metadata": {},
     "output_type": "execute_result"
    }
   ],
   "source": [
    "result_rest.summary()"
   ]
  },
  {
   "cell_type": "code",
   "execution_count": 17,
   "metadata": {},
   "outputs": [],
   "source": [
    "# Calculate the 95% confidence interval for the log-odds ratio between hypertension and smoking while controlling for age, religion, gender, and the use of chewing tobacco."
   ]
  },
  {
   "cell_type": "code",
   "execution_count": null,
   "metadata": {},
   "outputs": [],
   "source": []
  },
  {
   "cell_type": "code",
   "execution_count": null,
   "metadata": {},
   "outputs": [],
   "source": []
  },
  {
   "cell_type": "code",
   "execution_count": null,
   "metadata": {},
   "outputs": [],
   "source": []
  },
  {
   "cell_type": "code",
   "execution_count": null,
   "metadata": {},
   "outputs": [],
   "source": []
  },
  {
   "cell_type": "code",
   "execution_count": null,
   "metadata": {},
   "outputs": [],
   "source": []
  },
  {
   "cell_type": "code",
   "execution_count": null,
   "metadata": {},
   "outputs": [],
   "source": []
  },
  {
   "cell_type": "markdown",
   "metadata": {},
   "source": [
    "## Module 3 Quiz"
   ]
  },
  {
   "cell_type": "markdown",
   "metadata": {},
   "source": [
    "In the practice quiz for this module, we found the AUC/ROC for the logistic regression model used to explain hypertension versus smoking, chewing, age, religion, and gender. Based on the coefficient p-values from the coefficient table, remove predictors of hypertension that are not statistically significant based upon a significance threshold of 0.05 and recalculate AUC for the new (reduced) model."
   ]
  },
  {
   "cell_type": "markdown",
   "metadata": {},
   "source": [
    "**==========================================================================================================**"
   ]
  },
  {
   "cell_type": "code",
   "execution_count": 19,
   "metadata": {},
   "outputs": [
    {
     "data": {
      "text/html": [
       "<div>\n",
       "<style scoped>\n",
       "    .dataframe tbody tr th:only-of-type {\n",
       "        vertical-align: middle;\n",
       "    }\n",
       "\n",
       "    .dataframe tbody tr th {\n",
       "        vertical-align: top;\n",
       "    }\n",
       "\n",
       "    .dataframe thead th {\n",
       "        text-align: right;\n",
       "    }\n",
       "</style>\n",
       "<table border=\"1\" class=\"dataframe\">\n",
       "  <thead>\n",
       "    <tr style=\"text-align: right;\">\n",
       "      <th></th>\n",
       "      <th>hypertension</th>\n",
       "      <th>systolic</th>\n",
       "      <th>diastolic</th>\n",
       "      <th>bmi</th>\n",
       "      <th>bmi_group</th>\n",
       "      <th>cholesterol</th>\n",
       "      <th>age</th>\n",
       "      <th>age_group</th>\n",
       "      <th>parent_history_HTN</th>\n",
       "      <th>salt</th>\n",
       "      <th>salt_group</th>\n",
       "      <th>smoking</th>\n",
       "      <th>chewing</th>\n",
       "      <th>activity</th>\n",
       "      <th>weight</th>\n",
       "      <th>waist_circumference</th>\n",
       "      <th>hip_circumference</th>\n",
       "      <th>waist_hip_ratio</th>\n",
       "      <th>fasting_glucose</th>\n",
       "      <th>caste</th>\n",
       "      <th>marital_status</th>\n",
       "      <th>education</th>\n",
       "      <th>religion_Hindu</th>\n",
       "      <th>religion_Muslim</th>\n",
       "      <th>religion_Other</th>\n",
       "      <th>religion_Sikh</th>\n",
       "      <th>gender_Male</th>\n",
       "    </tr>\n",
       "  </thead>\n",
       "  <tbody>\n",
       "    <tr>\n",
       "      <th>0</th>\n",
       "      <td>0</td>\n",
       "      <td>136</td>\n",
       "      <td>59</td>\n",
       "      <td>35.00</td>\n",
       "      <td>BMI&gt;27.49</td>\n",
       "      <td>183</td>\n",
       "      <td>63</td>\n",
       "      <td>&gt;=60</td>\n",
       "      <td>both</td>\n",
       "      <td>1.50</td>\n",
       "      <td>Salt&lt;=5</td>\n",
       "      <td>0</td>\n",
       "      <td>1</td>\n",
       "      <td>sedentary</td>\n",
       "      <td>82.10</td>\n",
       "      <td>61.90</td>\n",
       "      <td>82.30</td>\n",
       "      <td>0.75</td>\n",
       "      <td>75</td>\n",
       "      <td>Schedule tribe</td>\n",
       "      <td>Married</td>\n",
       "      <td>&gt;=Graduate</td>\n",
       "      <td>0</td>\n",
       "      <td>1</td>\n",
       "      <td>0</td>\n",
       "      <td>0</td>\n",
       "      <td>0</td>\n",
       "    </tr>\n",
       "    <tr>\n",
       "      <th>1</th>\n",
       "      <td>0</td>\n",
       "      <td>134</td>\n",
       "      <td>90</td>\n",
       "      <td>18.40</td>\n",
       "      <td>BMI&lt;=27.49</td>\n",
       "      <td>127</td>\n",
       "      <td>30</td>\n",
       "      <td>30-44</td>\n",
       "      <td>either</td>\n",
       "      <td>9.10</td>\n",
       "      <td>5&lt;Salt&lt;=10</td>\n",
       "      <td>0</td>\n",
       "      <td>0</td>\n",
       "      <td>moderate</td>\n",
       "      <td>49.30</td>\n",
       "      <td>99.10</td>\n",
       "      <td>93.70</td>\n",
       "      <td>1.06</td>\n",
       "      <td>130</td>\n",
       "      <td>Other caste</td>\n",
       "      <td>Married</td>\n",
       "      <td>&gt;=Graduate</td>\n",
       "      <td>0</td>\n",
       "      <td>0</td>\n",
       "      <td>0</td>\n",
       "      <td>1</td>\n",
       "      <td>1</td>\n",
       "    </tr>\n",
       "    <tr>\n",
       "      <th>2</th>\n",
       "      <td>1</td>\n",
       "      <td>149</td>\n",
       "      <td>76</td>\n",
       "      <td>28.10</td>\n",
       "      <td>BMI&gt;27.49</td>\n",
       "      <td>132</td>\n",
       "      <td>24</td>\n",
       "      <td>20-29</td>\n",
       "      <td>both</td>\n",
       "      <td>15.20</td>\n",
       "      <td>10&lt;Salt&lt;=20</td>\n",
       "      <td>0</td>\n",
       "      <td>1</td>\n",
       "      <td>severe</td>\n",
       "      <td>78.10</td>\n",
       "      <td>101.10</td>\n",
       "      <td>88.90</td>\n",
       "      <td>1.14</td>\n",
       "      <td>129</td>\n",
       "      <td>General</td>\n",
       "      <td>Married</td>\n",
       "      <td>&lt;=Primary</td>\n",
       "      <td>1</td>\n",
       "      <td>0</td>\n",
       "      <td>0</td>\n",
       "      <td>0</td>\n",
       "      <td>0</td>\n",
       "    </tr>\n",
       "    <tr>\n",
       "      <th>3</th>\n",
       "      <td>0</td>\n",
       "      <td>117</td>\n",
       "      <td>65</td>\n",
       "      <td>29.10</td>\n",
       "      <td>BMI&gt;27.49</td>\n",
       "      <td>126</td>\n",
       "      <td>52</td>\n",
       "      <td>45-59</td>\n",
       "      <td>none</td>\n",
       "      <td>6.00</td>\n",
       "      <td>5&lt;Salt&lt;=10</td>\n",
       "      <td>0</td>\n",
       "      <td>0</td>\n",
       "      <td>moderate</td>\n",
       "      <td>66.60</td>\n",
       "      <td>88.70</td>\n",
       "      <td>100.50</td>\n",
       "      <td>0.88</td>\n",
       "      <td>126</td>\n",
       "      <td>General</td>\n",
       "      <td>Unmarried</td>\n",
       "      <td>Middle</td>\n",
       "      <td>1</td>\n",
       "      <td>0</td>\n",
       "      <td>0</td>\n",
       "      <td>0</td>\n",
       "      <td>0</td>\n",
       "    </tr>\n",
       "    <tr>\n",
       "      <th>4</th>\n",
       "      <td>0</td>\n",
       "      <td>110</td>\n",
       "      <td>74</td>\n",
       "      <td>33.10</td>\n",
       "      <td>BMI&gt;27.49</td>\n",
       "      <td>182</td>\n",
       "      <td>61</td>\n",
       "      <td>&gt;=60</td>\n",
       "      <td>none</td>\n",
       "      <td>13.80</td>\n",
       "      <td>10&lt;Salt&lt;=20</td>\n",
       "      <td>0</td>\n",
       "      <td>0</td>\n",
       "      <td>moderate</td>\n",
       "      <td>73.40</td>\n",
       "      <td>60.40</td>\n",
       "      <td>81.80</td>\n",
       "      <td>0.74</td>\n",
       "      <td>76</td>\n",
       "      <td>Schedule caste</td>\n",
       "      <td>Unmarried</td>\n",
       "      <td>&lt;=Primary</td>\n",
       "      <td>1</td>\n",
       "      <td>0</td>\n",
       "      <td>0</td>\n",
       "      <td>0</td>\n",
       "      <td>0</td>\n",
       "    </tr>\n",
       "  </tbody>\n",
       "</table>\n",
       "</div>"
      ],
      "text/plain": [
       "   hypertension  systolic  diastolic   bmi   bmi_group  cholesterol  age age_group parent_history_HTN  salt   salt_group  smoking  chewing   activity  weight  waist_circumference  hip_circumference  waist_hip_ratio  fasting_glucose           caste marital_status   education  religion_Hindu  religion_Muslim  religion_Other  religion_Sikh  gender_Male\n",
       "0             0       136         59 35.00   BMI>27.49          183   63      >=60               both  1.50      Salt<=5        0        1  sedentary   82.10                61.90              82.30             0.75               75  Schedule tribe        Married  >=Graduate               0                1               0              0            0\n",
       "1             0       134         90 18.40  BMI<=27.49          127   30     30-44             either  9.10   5<Salt<=10        0        0   moderate   49.30                99.10              93.70             1.06              130     Other caste        Married  >=Graduate               0                0               0              1            1\n",
       "2             1       149         76 28.10   BMI>27.49          132   24     20-29               both 15.20  10<Salt<=20        0        1     severe   78.10               101.10              88.90             1.14              129         General        Married   <=Primary               1                0               0              0            0\n",
       "3             0       117         65 29.10   BMI>27.49          126   52     45-59               none  6.00   5<Salt<=10        0        0   moderate   66.60                88.70             100.50             0.88              126         General      Unmarried      Middle               1                0               0              0            0\n",
       "4             0       110         74 33.10   BMI>27.49          182   61      >=60               none 13.80  10<Salt<=20        0        0   moderate   73.40                60.40              81.80             0.74               76  Schedule caste      Unmarried   <=Primary               1                0               0              0            0"
      ]
     },
     "execution_count": 19,
     "metadata": {},
     "output_type": "execute_result"
    }
   ],
   "source": [
    "df.head()"
   ]
  },
  {
   "cell_type": "code",
   "execution_count": null,
   "metadata": {},
   "outputs": [],
   "source": [
    "(df[\"bmi\"]).mean()"
   ]
  },
  {
   "cell_type": "code",
   "execution_count": null,
   "metadata": {},
   "outputs": [],
   "source": [
    "(df[\"age\"]).mean()"
   ]
  },
  {
   "cell_type": "code",
   "execution_count": null,
   "metadata": {},
   "outputs": [],
   "source": [
    "(df[\"salt\"]).mean()"
   ]
  },
  {
   "cell_type": "code",
   "execution_count": null,
   "metadata": {},
   "outputs": [],
   "source": [
    "# bmi_cent = bmi - mean(bmi),\n",
    "#          age_cent = age - mean(age),\n",
    "#          salt_cent = salt - mean(salt),"
   ]
  },
  {
   "cell_type": "code",
   "execution_count": null,
   "metadata": {},
   "outputs": [],
   "source": [
    "df[\"bmi_cent\"] = df[\"bmi\"] - (df[\"bmi\"]).mean()"
   ]
  },
  {
   "cell_type": "code",
   "execution_count": null,
   "metadata": {},
   "outputs": [],
   "source": [
    "df[\"age_cent\"] = df[\"age\"] - (df[\"age\"]).mean()"
   ]
  },
  {
   "cell_type": "code",
   "execution_count": null,
   "metadata": {},
   "outputs": [],
   "source": [
    "df[\"salt_cent\"] = df[\"salt\"] - (df[\"bmi\"]).mean()"
   ]
  },
  {
   "cell_type": "code",
   "execution_count": null,
   "metadata": {},
   "outputs": [],
   "source": [
    "df.head()"
   ]
  },
  {
   "cell_type": "code",
   "execution_count": null,
   "metadata": {},
   "outputs": [],
   "source": [
    "df.smoking.value_counts()"
   ]
  },
  {
   "cell_type": "code",
   "execution_count": null,
   "metadata": {},
   "outputs": [],
   "source": [
    "df['smoking'] = df['smoking'].astype(int)"
   ]
  },
  {
   "cell_type": "code",
   "execution_count": null,
   "metadata": {},
   "outputs": [],
   "source": [
    "df.smoking.value_counts()"
   ]
  },
  {
   "cell_type": "code",
   "execution_count": null,
   "metadata": {},
   "outputs": [],
   "source": [
    "df.chewing.value_counts()"
   ]
  },
  {
   "cell_type": "code",
   "execution_count": null,
   "metadata": {},
   "outputs": [],
   "source": [
    "df['chewing'] = df['chewing'].astype(int)"
   ]
  },
  {
   "cell_type": "code",
   "execution_count": null,
   "metadata": {},
   "outputs": [],
   "source": [
    "df.chewing.value_counts()"
   ]
  },
  {
   "cell_type": "code",
   "execution_count": null,
   "metadata": {},
   "outputs": [],
   "source": [
    "df[\"parent_history_HTN\"].value_counts()"
   ]
  },
  {
   "cell_type": "code",
   "execution_count": null,
   "metadata": {},
   "outputs": [],
   "source": [
    "df_dummies = pd.get_dummies(df['parent_history_HTN'], prefix='parent_history_HTN')"
   ]
  },
  {
   "cell_type": "code",
   "execution_count": null,
   "metadata": {},
   "outputs": [],
   "source": [
    "df_dummies"
   ]
  },
  {
   "cell_type": "code",
   "execution_count": null,
   "metadata": {},
   "outputs": [],
   "source": [
    "df = pd.concat([df, df_dummies], axis=1)"
   ]
  },
  {
   "cell_type": "code",
   "execution_count": null,
   "metadata": {},
   "outputs": [],
   "source": [
    "df.head()"
   ]
  },
  {
   "cell_type": "code",
   "execution_count": null,
   "metadata": {},
   "outputs": [],
   "source": [
    "df.activity.value_counts()"
   ]
  },
  {
   "cell_type": "code",
   "execution_count": null,
   "metadata": {},
   "outputs": [],
   "source": [
    "df_dummies = pd.get_dummies(df['activity'], prefix='activity')"
   ]
  },
  {
   "cell_type": "code",
   "execution_count": null,
   "metadata": {},
   "outputs": [],
   "source": [
    "df_dummies"
   ]
  },
  {
   "cell_type": "code",
   "execution_count": null,
   "metadata": {},
   "outputs": [],
   "source": [
    "df = pd.concat([df, df_dummies], axis=1)"
   ]
  },
  {
   "cell_type": "code",
   "execution_count": null,
   "metadata": {},
   "outputs": [],
   "source": [
    "df"
   ]
  },
  {
   "cell_type": "code",
   "execution_count": null,
   "metadata": {},
   "outputs": [],
   "source": [
    "df.columns"
   ]
  },
  {
   "cell_type": "code",
   "execution_count": null,
   "metadata": {},
   "outputs": [],
   "source": [
    "X = df[['bmi_cent', 'age_cent', 'salt_cent', 'parent_history_HTN_both', 'parent_history_HTN_either', 'parent_history_HTN_none', 'activity_mild', 'activity_moderate', \n",
    "        'activity_sedentary', 'activity_severe', 'smoking', 'chewing']]"
   ]
  },
  {
   "cell_type": "code",
   "execution_count": null,
   "metadata": {},
   "outputs": [],
   "source": [
    "y = df[[\"systolic\"]]"
   ]
  },
  {
   "cell_type": "code",
   "execution_count": null,
   "metadata": {},
   "outputs": [],
   "source": [
    "X = sm.add_constant(X)"
   ]
  },
  {
   "cell_type": "code",
   "execution_count": null,
   "metadata": {},
   "outputs": [],
   "source": [
    "model = sm.OLS(y, X).fit()"
   ]
  },
  {
   "cell_type": "code",
   "execution_count": null,
   "metadata": {},
   "outputs": [],
   "source": [
    "model.summary()"
   ]
  },
  {
   "cell_type": "code",
   "execution_count": null,
   "metadata": {},
   "outputs": [],
   "source": []
  },
  {
   "cell_type": "code",
   "execution_count": null,
   "metadata": {},
   "outputs": [],
   "source": []
  },
  {
   "cell_type": "markdown",
   "metadata": {},
   "source": [
    "#### Python code done by Dennis Lam"
   ]
  }
 ],
 "metadata": {
  "kernelspec": {
   "display_name": "Python 3 (ipykernel)",
   "language": "python",
   "name": "python3"
  },
  "language_info": {
   "codemirror_mode": {
    "name": "ipython",
    "version": 3
   },
   "file_extension": ".py",
   "mimetype": "text/x-python",
   "name": "python",
   "nbconvert_exporter": "python",
   "pygments_lexer": "ipython3",
   "version": "3.8.18"
  }
 },
 "nbformat": 4,
 "nbformat_minor": 4
}
